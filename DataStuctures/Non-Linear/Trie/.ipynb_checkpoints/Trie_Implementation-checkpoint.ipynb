{
 "cells": [
  {
   "cell_type": "markdown",
   "metadata": {},
   "source": [
    "# Programming Assignment (Dictionary lookup and autocomplete using Tries)\n",
    "\n",
    "## Trie\n",
    "A trie is a special rooted tree. that allows us to store a set of words by sharing their common prefixes.\n",
    "\n",
    "\n",
    "\n",
    "### Trie Data Structure: Specification\n",
    "\n",
    "A trie (or a prefix tree) data structure allows us to store a set of strings from a dictionary along with a frequency count for each strings. The following operations are supported:\n",
    "\n",
    "|Operation|Description|Return Type|\n",
    "|----|----|----| \n",
    "| `addWord(w)`\t|Insert a word w into the trie\t| None  | \n",
    "| `lookupWord(w)` |Return the frequency of w in the trie (0 if not present) |\tint  | \n",
    "| `autoComplete(w)` |Return a list of words in the trie along with their frequencies so that `w` is a prefix of each word in the list  |\tlist of `(str,int)` |\n",
    "\n"
   ]
  },
  {
   "cell_type": "markdown",
   "metadata": {},
   "source": [
    "## Implementation"
   ]
  },
  {
   "cell_type": "code",
   "execution_count": 1,
   "metadata": {
    "ExecuteTime": {
     "end_time": "2020-10-07T05:51:30.595237Z",
     "start_time": "2020-10-07T05:51:30.570576Z"
    }
   },
   "outputs": [],
   "source": [
    "import sys\n",
    "\n",
    "class MyTrieNode:\n",
    "\n",
    "    def __init__(self, isRootNode):\n",
    "        self.isRoot = isRootNode \n",
    "        self.isWordEnd = False \n",
    "        self.count = 0 \n",
    "        self.next = {} # Dictionary mapping each character from a-z to \n",
    "                       \n",
    "    def addWord(self,w):\n",
    "        \"\"\"\n",
    "        Adds word if new word to Trie, otherwise just increase count  \n",
    "        \"\"\"\n",
    "        assert(len(w) > 0)\n",
    "        \n",
    "        # Child Map for current letter \n",
    "        trie_layer = self.next \n",
    "        \n",
    "        # Traverse every letter of word \n",
    "        for i in range(len(w)):\n",
    "            letter = w[i] \n",
    "            # If letter not in trie_layer, create new layer and traverse to next layer\n",
    "            if  letter not in trie_layer:\n",
    "                child_trie_layer = MyTrieNode(False)   \n",
    "                trie_layer[letter]  = child_trie_layer  \n",
    "                trie_layer = child_trie_layer.next \n",
    "                # Initializing new word at end of word\n",
    "                if i == len(w)-1:\n",
    "                    child_trie_layer.isWordEnd =  True\n",
    "                    child_trie_layer.count = 1\n",
    "            \n",
    "            # If letter in trie_layer traverse and increase count\n",
    "            else:\n",
    "                layer_meta = trie_layer[letter] \n",
    "                trie_layer = trie_layer[letter].next \n",
    "                if i == len(w)-1:\n",
    "                    layer_meta.isWordEnd = True # updating for shorter word\n",
    "                    layer_meta.count += 1 \n",
    "        return\n",
    "\n",
    "    \n",
    "    def lookupWord(self,w):\n",
    "        \"\"\"\n",
    "        Return frequency of the word (w) in trie\n",
    "        \"\"\"\n",
    "        assert(len(w) > 0)\n",
    "        trie_layer = self.next \n",
    "        \n",
    "        # Traverse every letter of word \n",
    "        for i in range(len(w)):\n",
    "            letter = w[i] \n",
    "            # If letter in trie_layer, store node for count info\n",
    "            if  letter in trie_layer:\n",
    "                meta_layer, trie_layer = trie_layer[letter],trie_layer[letter].next                \n",
    "                if i == len(w) - 1:\n",
    "                    return meta_layer.count\n",
    "            # Exit loop, letter not contained\n",
    "            else:\n",
    "                return 0\n",
    "            \n",
    "\n",
    "    def autoCompleteHelper(self,node, w,word_options):\n",
    "        \"\"\"\n",
    "        Recursively search all paths given a prefix and return all possible words\n",
    "        \"\"\"\n",
    "        if node == None:\n",
    "            return\n",
    "        \n",
    "        # Add to list of reccomendations if we have found a word\n",
    "        if node.isWordEnd == True:\n",
    "            word_options.append((w, node.count))\n",
    "        \n",
    "        # Recursively traverse through all possible paths \n",
    "        for letter, following_letters in node.next.items():\n",
    "            self.autoCompleteHelper(node.next[letter], w + letter, word_options)\n",
    "\n",
    "            \n",
    "            \n",
    "    def autoComplete(self,w):\n",
    "        \"\"\"\n",
    "        Build up prefix from input word, by each letter; to find all possible words with common prefix\n",
    "        Returns list of possible words and their frequencies\n",
    "        \"\"\"\n",
    "        trie_cursor = self\n",
    "        trie_layer = self.next\n",
    "        base_word =  \"\"\n",
    "        no_suggestion = False\n",
    "        \n",
    "        for i in range(len(w)):\n",
    "            letter = w[i]\n",
    "            if letter not in trie_layer: # check if Prefix (letter) exists in Trie\n",
    "                no_suggestion = True\n",
    "                break\n",
    "                \n",
    "            base_word = base_word + letter \n",
    "            trie_cursor = trie_layer[letter]\n",
    "            trie_layer = trie_layer[letter].next\n",
    "\n",
    "        # Prefix does not exist in Trie\n",
    "        if no_suggestion == True:\n",
    "            return -1\n",
    "\n",
    "        # Prefix exists, but end of path in trie\n",
    "        elif (trie_cursor.isWordEnd == True) and (trie_layer == False):\n",
    "            return 0\n",
    "        \n",
    "        # Pass Prefix to helper and recurse for all paths\n",
    "        word_options = []\n",
    "        self.autoCompleteHelper(trie_cursor, base_word,word_options)\n",
    "        return word_options"
   ]
  },
  {
   "cell_type": "markdown",
   "metadata": {},
   "source": [
    "## Test Cases"
   ]
  },
  {
   "cell_type": "code",
   "execution_count": 11,
   "metadata": {
    "ExecuteTime": {
     "end_time": "2020-10-07T05:54:59.094382Z",
     "start_time": "2020-10-07T05:54:59.077460Z"
    }
   },
   "outputs": [
    {
     "name": "stdout",
     "output_type": "stream",
     "text": [
      "0\n",
      "0\n",
      "2\n",
      "Completions for \"pi\" are : \n",
      "[('pin', 1), ('ping', 1), ('pink', 1), ('pine', 1), ('pinetree', 1), ('pint', 1)]\n",
      "Completions for \"tes\" are : \n",
      "[('test', 4), ('testing', 2), ('testament', 1)]\n"
     ]
    }
   ],
   "source": [
    "# Create a root Trie node\n",
    "t= MyTrieNode(True) \n",
    "\n",
    "# Insert the words in lst1\n",
    "lst1=['testing','test','test','test','test','testament','testing','ping','pin','pink','pine','pint','pinetree']\n",
    "for w in lst1:\n",
    "    t.addWord(w)\n",
    "\n",
    "# Perform lookups\n",
    "j = t.lookupWord('testy') # should return 0\n",
    "print(j)\n",
    "j2 = t.lookupWord('telltale') # should return 0\n",
    "print(j2)\n",
    "j3 = t.lookupWord ('testing') # should return 2\n",
    "print(j3)\n",
    "\n",
    "# Run autocompletes\n",
    "lst3 = t.autoComplete('pi')\n",
    "print('Completions for \\\"pi\\\" are : ')\n",
    "print(lst3)\n",
    "\n",
    "lst4 = t.autoComplete('tes')\n",
    "print('Completions for \\\"tes\\\" are : ')\n",
    "print(lst4)"
   ]
  },
  {
   "cell_type": "markdown",
   "metadata": {},
   "source": [
    "## Additional Test Cases"
   ]
  },
  {
   "cell_type": "code",
   "execution_count": 5,
   "metadata": {
    "ExecuteTime": {
     "end_time": "2020-10-07T05:53:16.092351Z",
     "start_time": "2020-10-07T05:53:16.068419Z"
    }
   },
   "outputs": [],
   "source": [
    "import sys\n",
    "\n",
    "def lookupTest(t, lstToLookup):\n",
    "    retValue = True\n",
    "    for (w,k) in lstToLookup:\n",
    "        j = t.lookupWord(w)\n",
    "        if (j != k):\n",
    "            print('\\t Lookup for word %s failed. Expected result: %d, obtained from your trie: %d \\n'%(w,k,j))\n",
    "            retValue = False\n",
    "    return retValue\n",
    "\n",
    "def autoCompleteTest(t, stem, expResult):\n",
    "    lst1 = sorted(t.autoComplete(stem))\n",
    "    lstRet = sorted(expResult)\n",
    "    if (len(lst1) != len(lstRet)):\n",
    "        print('\\t autoComplete(\\\"%s\\\") failed'%(stem))\n",
    "        print('\\t\\t Expected: ',lstRet)\n",
    "        print('\\t\\t Got: ', lst1)\n",
    "        return False\n",
    "    n = len(lstRet)\n",
    "    for i in range(0,n):\n",
    "        (expI,freqI) = lstRet[i]\n",
    "        (gotI,freqJ) = lst1[i]\n",
    "        if (expI != gotI or freqI != freqJ):\n",
    "            print('autoComplete(\\\"%s\\\") failed'%(stem))\n",
    "            print('\\t Expected: ',lstRet)\n",
    "            print('\\t Got: ', lst1 )\n",
    "            return False   \n",
    "    return True\n",
    "\n",
    "def runTest(specs):\n",
    "    try:\n",
    "        t = MyTrieNode(True)\n",
    "        lNum = 0\n",
    "        result = True\n",
    "        spec_lines = specs.split('\\n')\n",
    "        for line in spec_lines:\n",
    "            lNum += 1\n",
    "            lst = [x.strip() for x in line.split(',')]\n",
    "            if (lst[0] == 'W'):\n",
    "                print('\\t Insert:',lst[1])\n",
    "                t.addWord(lst[1])\n",
    "            elif (lst[0] == 'L'):\n",
    "                print('\\t Lookup:', lst[1])\n",
    "                j = t.lookupWord(lst[1])\n",
    "                if (j != int(lst[2])):\n",
    "                    print('\\t\\t Failed --> expected : %s, got %d'%(lst[2],j))\n",
    "                    result=False\n",
    "            elif (lst[0] == 'A'):\n",
    "                wrd = lst[1]\n",
    "                rList = lst[2::]\n",
    "                rWords = rList[0::2]\n",
    "                print('\\t Autocomplete: ',lst[1])\n",
    "                rNums = [int(x) for x in rList[1::2] ]\n",
    "                retList = sorted(zip (rWords,rNums))\n",
    "#                 print(t,wrd,retList)\n",
    "                result = (autoCompleteTest(t,wrd, retList)) and result\n",
    "            else:\n",
    "                print('Error in test specification line number %d -- Unknown command spec %s'%(lNum,lst[0]))\n",
    "                sys.exit(1)\n",
    "        return result\n",
    "    except IOError:\n",
    "        print('Unable to open',fileName)\n",
    "\n"
   ]
  },
  {
   "cell_type": "code",
   "execution_count": 6,
   "metadata": {
    "ExecuteTime": {
     "end_time": "2020-10-07T05:53:18.690713Z",
     "start_time": "2020-10-07T05:53:18.669784Z"
    }
   },
   "outputs": [
    {
     "name": "stdout",
     "output_type": "stream",
     "text": [
      "\t Insert: hello\n",
      "\t Insert: hello\n",
      "\t Insert: he\n",
      "\t Insert: jello\n",
      "\t Insert: jelly\n",
      "\t Lookup: hello\n",
      "\t Lookup: hell\n",
      "\t Lookup: howdy\n",
      "\t Autocomplete:  he\n",
      "\t Autocomplete:  je\n",
      "Test 1 PASSED\n"
     ]
    }
   ],
   "source": [
    "str_spec1='''W,hello\n",
    "W,hello\n",
    "W,he\n",
    "W,jello\n",
    "W,jelly\n",
    "L,hello,2\n",
    "L,hell,0\n",
    "L,howdy,0\n",
    "A,he,hello,2,he,1\n",
    "A,je,jello,1,jelly,1'''\n",
    "\n",
    "rslt = runTest(str_spec1)\n",
    "if (rslt):\n",
    "    print('Test 1 PASSED')\n",
    "else:\n",
    "    print('Test 1 FAILED')"
   ]
  },
  {
   "cell_type": "code",
   "execution_count": 7,
   "metadata": {
    "ExecuteTime": {
     "end_time": "2020-10-07T05:53:21.464630Z",
     "start_time": "2020-10-07T05:53:21.442688Z"
    }
   },
   "outputs": [
    {
     "name": "stdout",
     "output_type": "stream",
     "text": [
      "\t Insert: hello\n",
      "\t Insert: how\n",
      "\t Insert: are\n",
      "\t Insert: you\n",
      "\t Insert: hell\n",
      "\t Lookup: howdy\n",
      "\t Insert: howdy\n",
      "\t Insert: arid\n",
      "\t Insert: arachnid\n",
      "\t Lookup: orange\n",
      "\t Lookup: hello\n",
      "\t Lookup: hell\n",
      "\t Lookup: howdy\n",
      "\t Autocomplete:  ho\n",
      "Test 2 PASSED\n"
     ]
    }
   ],
   "source": [
    "str_spec2 = '''W,hello\n",
    "W,how\n",
    "W,are\n",
    "W,you\n",
    "W,hell\n",
    "L,howdy,0\n",
    "W,howdy\n",
    "W,arid\n",
    "W,arachnid\n",
    "L,orange,0\n",
    "L,hello,1\n",
    "L,hell,1\n",
    "L,howdy,1\n",
    "A,ho,howdy,1,how,1'''\n",
    "\n",
    "rslt = runTest(str_spec2)\n",
    "if (rslt):\n",
    "    print('Test 2 PASSED')\n",
    "else:\n",
    "    print('Test 2 FAILED')"
   ]
  },
  {
   "cell_type": "code",
   "execution_count": 8,
   "metadata": {
    "ExecuteTime": {
     "end_time": "2020-10-07T05:53:23.486208Z",
     "start_time": "2020-10-07T05:53:23.464267Z"
    }
   },
   "outputs": [
    {
     "name": "stdout",
     "output_type": "stream",
     "text": [
      "\t Lookup: lolo\n",
      "\t Lookup: popo\n",
      "\t Insert: cat\n",
      "\t Insert: hat\n",
      "\t Insert: mat\n",
      "\t Insert: hatter\n",
      "\t Insert: mad\n",
      "\t Insert: maddening\n",
      "\t Insert: catherine\n",
      "\t Autocomplete:  cath\n",
      "Test 3 PASSED\n"
     ]
    }
   ],
   "source": [
    "str_spec3='''L,lolo,0\n",
    "L,popo,0\n",
    "W,cat\n",
    "W,hat\n",
    "W,mat\n",
    "W,hatter\n",
    "W,mad\n",
    "W,maddening\n",
    "W,catherine\n",
    "A,cath,catherine,1'''\n",
    "\n",
    "rslt = runTest(str_spec3)\n",
    "if (rslt):\n",
    "    print('Test 3 PASSED')\n",
    "else:\n",
    "    print('Test 3 FAILED')\n"
   ]
  },
  {
   "cell_type": "code",
   "execution_count": 9,
   "metadata": {
    "ExecuteTime": {
     "end_time": "2020-10-07T05:53:25.560189Z",
     "start_time": "2020-10-07T05:53:25.551176Z"
    }
   },
   "outputs": [
    {
     "name": "stdout",
     "output_type": "stream",
     "text": [
      "\t Insert: jelly\n",
      "\t Insert: jello\n",
      "\t Insert: just\n",
      "\t Insert: justin\n",
      "\t Insert: jejunum\n",
      "\t Insert: jellyfish\n",
      "\t Lookup: jell\n",
      "\t Lookup: jel\n",
      "\t Lookup: jellyfish\n",
      "\t Lookup: justtin\n",
      "\t Lookup: jus\n",
      "\t Lookup: justin\n",
      "Test 4 PASSED\n"
     ]
    }
   ],
   "source": [
    "str_spec4 = '''W,jelly\n",
    "W,jello\n",
    "W,just\n",
    "W,justin\n",
    "W,jejunum\n",
    "W,jellyfish\n",
    "L,jell,0\n",
    "L,jel,0\n",
    "L,jellyfish,1\n",
    "L,justtin,0\n",
    "L,jus,0\n",
    "L,justin,1'''\n",
    "\n",
    "rslt = runTest(str_spec4)\n",
    "if (rslt):\n",
    "    print('Test 4 PASSED')\n",
    "else:\n",
    "    print('Test 4 FAILED')\n",
    "\n"
   ]
  }
 ],
 "metadata": {
  "kernelspec": {
   "display_name": "Python 3",
   "language": "python",
   "name": "python3"
  },
  "language_info": {
   "codemirror_mode": {
    "name": "ipython",
    "version": 3
   },
   "file_extension": ".py",
   "mimetype": "text/x-python",
   "name": "python",
   "nbconvert_exporter": "python",
   "pygments_lexer": "ipython3",
   "version": "3.7.3"
  },
  "toc": {
   "base_numbering": 1,
   "nav_menu": {},
   "number_sections": true,
   "sideBar": true,
   "skip_h1_title": false,
   "title_cell": "Table of Contents",
   "title_sidebar": "Contents",
   "toc_cell": false,
   "toc_position": {
    "height": "757px",
    "left": "46px",
    "top": "158px",
    "width": "384px"
   },
   "toc_section_display": true,
   "toc_window_display": true
  }
 },
 "nbformat": 4,
 "nbformat_minor": 2
}
