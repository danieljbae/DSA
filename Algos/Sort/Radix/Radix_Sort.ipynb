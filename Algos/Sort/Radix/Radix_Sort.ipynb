{
 "cells": [
  {
   "cell_type": "markdown",
   "metadata": {},
   "source": [
    "## Radix Sort"
   ]
  },
  {
   "cell_type": "code",
   "execution_count": 3,
   "metadata": {
    "ExecuteTime": {
     "end_time": "2020-10-07T03:59:12.769103Z",
     "start_time": "2020-10-07T03:59:12.752138Z"
    }
   },
   "outputs": [],
   "source": [
    "\"\"\"\n",
    "Created on Mon Jan 21 02:51:50 2019\n",
    "\n",
    "@author: danie\n",
    "\"\"\"\n",
    "\n",
    "def max_digits(lst):\n",
    "    \"\"\"\n",
    "    Gets max number of digits in unsorted list\n",
    "    \"\"\"\n",
    "    max_digit_num_ofElement = 0\n",
    "    for index in range(0,len(lst),1):\n",
    "        element = lst[index]\n",
    "        cur_digit_num_ofElement = len(str(element))\n",
    "        if cur_digit_num_ofElement > max_digit_num_ofElement:\n",
    "            max_digit_num_ofElement = cur_digit_num_ofElement\n",
    "    return max_digit_num_ofElement\n",
    "\n",
    "def lead_zeros (lst,max_digit_out):\n",
    "    \"\"\"\n",
    "    Padding with leading zeros\n",
    "    \"\"\"\n",
    "    lead_zero_list = []\n",
    "    for index in range(0,len(lst),1):\n",
    "        element = lst[index]\n",
    "        element = str(element)\n",
    "        current_len = len(element)\n",
    "        if current_len < max_digit_out:\n",
    "            element = element.zfill(max_digit_out)\n",
    "        lead_zero_list.append(element)\n",
    "    return lead_zero_list\n",
    "\n",
    "\n",
    "# Adds values of into buskets then removes into list\n",
    "def sort_by_bucket_to_list(placement_digit_buckets,max_digit_out,recurr,list_lead_zeros):\n",
    "    \"\"\"\n",
    "    Adds k'th number into buckets\n",
    "    Removes in bucket order\n",
    "    Resets buckets and Recurse\n",
    "    \"\"\"\n",
    "    \n",
    "    # empty list to hold values for each pass (resets every pass)\n",
    "    list_after_pass = []\n",
    "    \n",
    "    for index in range(0,len(list_lead_zeros),1):\n",
    "        sub_element = list_lead_zeros[index]\n",
    "    \n",
    "        # \"recur\" allows us to incrument the digit for each recursion\n",
    "        for sub_index in range(recurr-1,recurr-2,-1):\n",
    "            last_values_digit = sub_element[sub_index]\n",
    "            \n",
    "            if last_values_digit in placement_digit_buckets:\n",
    "                placement_digit_buckets[last_values_digit].append(sub_element)\n",
    "    \n",
    "    # Removes elements from buckets in order\n",
    "    for key, value in placement_digit_buckets.items():\n",
    "        for index in range(1,len(value),1):\n",
    "            list_after_pass.append(value[index])\n",
    "    \n",
    "    list_lead_zeros = list_after_pass\n",
    "\n",
    "    #### Resets Buckets\n",
    "    digit_buckets = {\n",
    "        \"0\":[0],\n",
    "        \"1\":[1],\n",
    "        \"2\":[2],\n",
    "        \"3\":[3],\n",
    "        \"4\":[4],\n",
    "        \"5\":[5],\n",
    "        \"6\":[6],\n",
    "        \"7\":[7],\n",
    "        \"8\":[8],\n",
    "        \"9\":[9]}\n",
    "    placement_digit_buckets = digit_buckets\n",
    "    \n",
    "    ### Recursion - start at max number of digits\n",
    "    if (max_digit_out+1 - max_digit_out) < recurr:\n",
    "        recurr = recurr - 1\n",
    "        print(list_lead_zeros)\n",
    "        list_lead_zeros = sort_by_bucket_to_list(placement_digit_buckets,max_digit_out,recurr,list_lead_zeros)\n",
    "        return list_lead_zeros\n",
    "    else:\n",
    "        return list_lead_zeros"
   ]
  },
  {
   "cell_type": "code",
   "execution_count": 2,
   "metadata": {
    "ExecuteTime": {
     "end_time": "2020-10-07T03:42:52.407797Z",
     "start_time": "2020-10-07T03:42:52.383515Z"
    }
   },
   "outputs": [
    {
     "name": "stdout",
     "output_type": "stream",
     "text": [
      "['0250', '1000', '0300', '0501', '0052', '5423', '0087']\n",
      "['1000', '0300', '0501', '5423', '0250', '0052', '0087']\n",
      "['1000', '0052', '0087', '0250', '0300', '5423', '0501']\n",
      "[52, 87, 250, 300, 501, 1000, 5423]\n"
     ]
    }
   ],
   "source": [
    "# import time\n",
    "# import random\n",
    "\n",
    "def main():\n",
    "#     start = time.time()\n",
    "#     lst = random.sample(range(9999999), 100000)\n",
    "    lst = [501,250,5423,1000,52,300,87]\n",
    "     \n",
    "    max_digit_out = max_digits(lst)\n",
    "    list_lead_zeros = lead_zeros(lst,max_digit_out)\n",
    "    # Dictionary for k index \n",
    "    placement_digit_buckets = {\n",
    "        \"0\":[0],\n",
    "        \"1\":[1],\n",
    "        \"2\":[2],\n",
    "        \"3\":[3],\n",
    "        \"4\":[4],\n",
    "        \"5\":[5],\n",
    "        \"6\":[6],\n",
    "        \"7\":[7],\n",
    "        \"8\":[8],\n",
    "        \"9\":[9]}\n",
    "    \n",
    "    recurr = max_digit_out\n",
    "    list_from_buckets = sort_by_bucket_to_list(placement_digit_buckets,max_digit_out,recurr,list_lead_zeros)\n",
    "    list_from_buckets = list(map(int,list_from_buckets))\n",
    "    print(list_from_buckets)\n",
    "#     End = time.time()\n",
    "#     print(End - start)\n",
    "\n",
    "if __name__ == '__main__':\n",
    "    main()"
   ]
  },
  {
   "cell_type": "code",
   "execution_count": null,
   "metadata": {},
   "outputs": [],
   "source": []
  },
  {
   "cell_type": "code",
   "execution_count": null,
   "metadata": {},
   "outputs": [],
   "source": []
  },
  {
   "cell_type": "code",
   "execution_count": null,
   "metadata": {},
   "outputs": [],
   "source": []
  },
  {
   "cell_type": "code",
   "execution_count": 1,
   "metadata": {
    "ExecuteTime": {
     "end_time": "2020-11-04T03:11:39.055126Z",
     "start_time": "2020-11-04T03:11:39.036170Z"
    }
   },
   "outputs": [
    {
     "name": "stdout",
     "output_type": "stream",
     "text": [
      "[2, 24, 45, 66, 75, 90, 170, 802]\n"
     ]
    }
   ],
   "source": [
    "# Python program for implementation of Radix Sort\n",
    "# A function to do counting sort of arr[] according to\n",
    "# the digit represented by exp.\n",
    "\n",
    "def countingSort(arr, exp1):\n",
    "\n",
    "    n = len(arr)\n",
    "\n",
    "    # The output array elements that will have sorted arr\n",
    "    output = [0] * (n)\n",
    "\n",
    "    # initialize count array as 0\n",
    "    count = [0] * (10)\n",
    "\n",
    "    # Store count of occurrences in count[]\n",
    "    for i in range(0, n):\n",
    "        index = (arr[i] / exp1)\n",
    "        count[int(index % 10)] += 1\n",
    "\n",
    "    # Change count[i] so that count[i] now contains actual\n",
    "    # position of this digit in output array\n",
    "    for i in range(1, 10):\n",
    "        count[i] += count[i - 1]\n",
    "\n",
    "    # Build the output array\n",
    "    i = n - 1\n",
    "    while i >= 0:\n",
    "        index = (arr[i] / exp1)\n",
    "        output[count[int(index % 10)] - 1] = arr[i]\n",
    "        count[int(index % 10)] -= 1\n",
    "        i -= 1\n",
    "\n",
    "    # Copying the output array to arr[],\n",
    "    # so that arr now contains sorted numbers\n",
    "    i = 0\n",
    "    for i in range(0, len(arr)):\n",
    "        arr[i] = output[i]\n",
    "\n",
    "# Method to do Radix Sort\n",
    "def radixSort(arr):\n",
    "\n",
    "    # Find the maximum number to know number of digits\n",
    "    max1 = max(arr)\n",
    "\n",
    "    # Do counting sort for every digit. Note that instead\n",
    "    # of passing digit number, exp is passed. exp is 10^i\n",
    "    # where i is current digit number\n",
    "    exp = 1\n",
    "    while max1 / exp > 0:\n",
    "        countingSort(arr, exp)\n",
    "        exp *= 10\n",
    "\n",
    "\n",
    "# Driver code\n",
    "arr = [170, 45, 75, 90, 802, 24, 2, 66]\n",
    "\n",
    "# Function Call\n",
    "radixSort(arr)\n",
    "print(arr)\n",
    "\n",
    "# for i in range(len(arr)):\n",
    "#     print(arr[i])\n",
    "\n",
    "# This code is contributed by Mohit Kumra\n",
    "# Edited by Patrick Gallagher\n"
   ]
  }
 ],
 "metadata": {
  "kernelspec": {
   "display_name": "Python 3",
   "language": "python",
   "name": "python3"
  },
  "language_info": {
   "codemirror_mode": {
    "name": "ipython",
    "version": 3
   },
   "file_extension": ".py",
   "mimetype": "text/x-python",
   "name": "python",
   "nbconvert_exporter": "python",
   "pygments_lexer": "ipython3",
   "version": "3.7.3"
  },
  "toc": {
   "base_numbering": 1,
   "nav_menu": {},
   "number_sections": true,
   "sideBar": true,
   "skip_h1_title": false,
   "title_cell": "Table of Contents",
   "title_sidebar": "Contents",
   "toc_cell": false,
   "toc_position": {},
   "toc_section_display": true,
   "toc_window_display": true
  }
 },
 "nbformat": 4,
 "nbformat_minor": 2
}
